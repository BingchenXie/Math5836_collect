{
 "metadata": {
  "kernelspec": {
   "name": "python3",
   "display_name": "Python 3 (ipykernel)",
   "language": "python"
  }
 },
 "nbformat": 4,
 "nbformat_minor": 5,
 "cells": [
  {
   "attachments": {},
   "cell_type": "markdown",
   "metadata": {},
   "source": [
    "\n",
    "# Warning:\n",
    "\n",
    "In model.py,\n",
    "run just one line of the code at one time.  \n",
    "Ortherwise, the terminal will Kill this process.  \n",
    "\n",
    "![](./markdown/img.png) \n",
    "\n",
    "Comment out other lines while running a line.\n",
    "\n",
    "\n"
   ],
   "id": "cefc0ef17859371e"
  },
  {
   "metadata": {},
   "cell_type": "markdown",
   "source": [
    "# The Console Output\n",
    "More Console Output in output.pdf   \n",
    "![](./markdown/img1.png)   \n"
   ],
   "id": "96c0f131b9338730"
  },
  {
   "metadata": {},
   "cell_type": "markdown",
   "source": [
    "# PIP\n",
    "! pip install -r requirements.txt  \n",
    "If any problem with xgboost, try this:  \n",
    "! pip install xgboost --no-binary xgboost -v  "
   ],
   "id": "cb05169defe9fb27"
  }
 ]
}
